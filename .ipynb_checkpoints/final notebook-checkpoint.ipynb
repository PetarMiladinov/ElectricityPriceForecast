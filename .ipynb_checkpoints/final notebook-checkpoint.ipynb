{
 "cells": [
  {
   "cell_type": "code",
   "execution_count": 2,
   "metadata": {},
   "outputs": [],
   "source": [
    "import numpy as np\n",
    "import pandas as pd\n",
    "from sklearn.model_selection import train_test_split\n",
    "from sklearn.metrics import mean_squared_error\n",
    "from sklearn.metrics import mean_absolute_error,r2_score\n",
    "from sklearn.metrics import accuracy_score\n",
    "from sklearn.preprocessing import StandardScaler\n",
    "from sklearn.ensemble import RandomForestRegressor\n",
    "from sklearn.neural_network import MLPClassifier\n",
    "from sklearn.metrics import confusion_matrix\n",
    "from math import sqrt\n",
    "from xgboost import XGBRegressor\n",
    "import keras\n",
    "from keras.models import Sequential\n",
    "from keras.layers import Dense\n",
    "from time import process_time"
   ]
  },
  {
   "cell_type": "markdown",
   "metadata": {},
   "source": [
    "# READING AND PREPROCESSING DATA"
   ]
  },
  {
   "cell_type": "code",
   "execution_count": 3,
   "metadata": {},
   "outputs": [
    {
     "data": {
      "text/html": [
       "<div>\n",
       "<style scoped>\n",
       "    .dataframe tbody tr th:only-of-type {\n",
       "        vertical-align: middle;\n",
       "    }\n",
       "\n",
       "    .dataframe tbody tr th {\n",
       "        vertical-align: top;\n",
       "    }\n",
       "\n",
       "    .dataframe thead th {\n",
       "        text-align: right;\n",
       "    }\n",
       "</style>\n",
       "<table border=\"1\" class=\"dataframe\">\n",
       "  <thead>\n",
       "    <tr style=\"text-align: right;\">\n",
       "      <th></th>\n",
       "      <th>DateTime</th>\n",
       "      <th>Holiday</th>\n",
       "      <th>HolidayFlag</th>\n",
       "      <th>DayOfWeek</th>\n",
       "      <th>WeekOfYear</th>\n",
       "      <th>Day</th>\n",
       "      <th>Month</th>\n",
       "      <th>Year</th>\n",
       "      <th>PeriodOfDay</th>\n",
       "      <th>ForecastWindProduction</th>\n",
       "      <th>SystemLoadEA</th>\n",
       "      <th>SMPEA</th>\n",
       "      <th>ORKTemperature</th>\n",
       "      <th>ORKWindspeed</th>\n",
       "      <th>CO2Intensity</th>\n",
       "      <th>ActualWindProduction</th>\n",
       "      <th>SystemLoadEP2</th>\n",
       "      <th>SMPEP2</th>\n",
       "    </tr>\n",
       "  </thead>\n",
       "  <tbody>\n",
       "    <tr>\n",
       "      <th>0</th>\n",
       "      <td>01/11/2011 00:00</td>\n",
       "      <td>None</td>\n",
       "      <td>0</td>\n",
       "      <td>1</td>\n",
       "      <td>44</td>\n",
       "      <td>1</td>\n",
       "      <td>11</td>\n",
       "      <td>2011</td>\n",
       "      <td>0</td>\n",
       "      <td>315.31</td>\n",
       "      <td>3388.77</td>\n",
       "      <td>49.26</td>\n",
       "      <td>6.0</td>\n",
       "      <td>9.3</td>\n",
       "      <td>600.71</td>\n",
       "      <td>356.0</td>\n",
       "      <td>3159.60</td>\n",
       "      <td>54.32</td>\n",
       "    </tr>\n",
       "    <tr>\n",
       "      <th>1</th>\n",
       "      <td>01/11/2011 00:30</td>\n",
       "      <td>None</td>\n",
       "      <td>0</td>\n",
       "      <td>1</td>\n",
       "      <td>44</td>\n",
       "      <td>1</td>\n",
       "      <td>11</td>\n",
       "      <td>2011</td>\n",
       "      <td>1</td>\n",
       "      <td>321.80</td>\n",
       "      <td>3196.66</td>\n",
       "      <td>49.26</td>\n",
       "      <td>6.0</td>\n",
       "      <td>11.1</td>\n",
       "      <td>605.42</td>\n",
       "      <td>317.0</td>\n",
       "      <td>2973.01</td>\n",
       "      <td>54.23</td>\n",
       "    </tr>\n",
       "    <tr>\n",
       "      <th>2</th>\n",
       "      <td>01/11/2011 01:00</td>\n",
       "      <td>None</td>\n",
       "      <td>0</td>\n",
       "      <td>1</td>\n",
       "      <td>44</td>\n",
       "      <td>1</td>\n",
       "      <td>11</td>\n",
       "      <td>2011</td>\n",
       "      <td>2</td>\n",
       "      <td>328.57</td>\n",
       "      <td>3060.71</td>\n",
       "      <td>49.10</td>\n",
       "      <td>5.0</td>\n",
       "      <td>11.1</td>\n",
       "      <td>589.97</td>\n",
       "      <td>311.0</td>\n",
       "      <td>2834.00</td>\n",
       "      <td>54.23</td>\n",
       "    </tr>\n",
       "    <tr>\n",
       "      <th>3</th>\n",
       "      <td>01/11/2011 01:30</td>\n",
       "      <td>None</td>\n",
       "      <td>0</td>\n",
       "      <td>1</td>\n",
       "      <td>44</td>\n",
       "      <td>1</td>\n",
       "      <td>11</td>\n",
       "      <td>2011</td>\n",
       "      <td>3</td>\n",
       "      <td>335.60</td>\n",
       "      <td>2945.56</td>\n",
       "      <td>48.04</td>\n",
       "      <td>6.0</td>\n",
       "      <td>9.3</td>\n",
       "      <td>585.94</td>\n",
       "      <td>313.0</td>\n",
       "      <td>2725.99</td>\n",
       "      <td>53.47</td>\n",
       "    </tr>\n",
       "    <tr>\n",
       "      <th>4</th>\n",
       "      <td>01/11/2011 02:00</td>\n",
       "      <td>None</td>\n",
       "      <td>0</td>\n",
       "      <td>1</td>\n",
       "      <td>44</td>\n",
       "      <td>1</td>\n",
       "      <td>11</td>\n",
       "      <td>2011</td>\n",
       "      <td>4</td>\n",
       "      <td>342.90</td>\n",
       "      <td>2849.34</td>\n",
       "      <td>33.75</td>\n",
       "      <td>6.0</td>\n",
       "      <td>11.1</td>\n",
       "      <td>571.52</td>\n",
       "      <td>346.0</td>\n",
       "      <td>2655.64</td>\n",
       "      <td>39.87</td>\n",
       "    </tr>\n",
       "  </tbody>\n",
       "</table>\n",
       "</div>"
      ],
      "text/plain": [
       "           DateTime Holiday  HolidayFlag  DayOfWeek  WeekOfYear  Day  Month  \\\n",
       "0  01/11/2011 00:00    None            0          1          44    1     11   \n",
       "1  01/11/2011 00:30    None            0          1          44    1     11   \n",
       "2  01/11/2011 01:00    None            0          1          44    1     11   \n",
       "3  01/11/2011 01:30    None            0          1          44    1     11   \n",
       "4  01/11/2011 02:00    None            0          1          44    1     11   \n",
       "\n",
       "   Year  PeriodOfDay  ForecastWindProduction  SystemLoadEA  SMPEA  \\\n",
       "0  2011            0                  315.31       3388.77  49.26   \n",
       "1  2011            1                  321.80       3196.66  49.26   \n",
       "2  2011            2                  328.57       3060.71  49.10   \n",
       "3  2011            3                  335.60       2945.56  48.04   \n",
       "4  2011            4                  342.90       2849.34  33.75   \n",
       "\n",
       "   ORKTemperature  ORKWindspeed  CO2Intensity  ActualWindProduction  \\\n",
       "0             6.0           9.3        600.71                 356.0   \n",
       "1             6.0          11.1        605.42                 317.0   \n",
       "2             5.0          11.1        589.97                 311.0   \n",
       "3             6.0           9.3        585.94                 313.0   \n",
       "4             6.0          11.1        571.52                 346.0   \n",
       "\n",
       "   SystemLoadEP2  SMPEP2  \n",
       "0        3159.60   54.32  \n",
       "1        2973.01   54.23  \n",
       "2        2834.00   54.23  \n",
       "3        2725.99   53.47  \n",
       "4        2655.64   39.87  "
      ]
     },
     "execution_count": 3,
     "metadata": {},
     "output_type": "execute_result"
    }
   ],
   "source": [
    "data_frame = pd.read_csv(\"electricity_prices.csv\", na_values=['?'])\n",
    "data_frame.head()"
   ]
  },
  {
   "cell_type": "code",
   "execution_count": 4,
   "metadata": {},
   "outputs": [
    {
     "name": "stdout",
     "output_type": "stream",
     "text": [
      "<class 'pandas.core.frame.DataFrame'>\n",
      "RangeIndex: 38014 entries, 0 to 38013\n",
      "Data columns (total 18 columns):\n",
      " #   Column                  Non-Null Count  Dtype  \n",
      "---  ------                  --------------  -----  \n",
      " 0   DateTime                38014 non-null  object \n",
      " 1   Holiday                 38014 non-null  object \n",
      " 2   HolidayFlag             38014 non-null  int64  \n",
      " 3   DayOfWeek               38014 non-null  int64  \n",
      " 4   WeekOfYear              38014 non-null  int64  \n",
      " 5   Day                     38014 non-null  int64  \n",
      " 6   Month                   38014 non-null  int64  \n",
      " 7   Year                    38014 non-null  int64  \n",
      " 8   PeriodOfDay             38014 non-null  int64  \n",
      " 9   ForecastWindProduction  38009 non-null  float64\n",
      " 10  SystemLoadEA            38012 non-null  float64\n",
      " 11  SMPEA                   38012 non-null  float64\n",
      " 12  ORKTemperature          37719 non-null  float64\n",
      " 13  ORKWindspeed            37715 non-null  float64\n",
      " 14  CO2Intensity            38007 non-null  float64\n",
      " 15  ActualWindProduction    38009 non-null  float64\n",
      " 16  SystemLoadEP2           38012 non-null  float64\n",
      " 17  SMPEP2                  38012 non-null  float64\n",
      "dtypes: float64(9), int64(7), object(2)\n",
      "memory usage: 5.2+ MB\n"
     ]
    }
   ],
   "source": [
    "data_frame.info()"
   ]
  },
  {
   "cell_type": "code",
   "execution_count": 5,
   "metadata": {},
   "outputs": [
    {
     "data": {
      "text/plain": [
       "DateTime                    0\n",
       "Holiday                     0\n",
       "HolidayFlag                 0\n",
       "DayOfWeek                   0\n",
       "WeekOfYear                  0\n",
       "Day                         0\n",
       "Month                       0\n",
       "Year                        0\n",
       "PeriodOfDay                 0\n",
       "ForecastWindProduction      5\n",
       "SystemLoadEA                2\n",
       "SMPEA                       2\n",
       "ORKTemperature            295\n",
       "ORKWindspeed              299\n",
       "CO2Intensity                7\n",
       "ActualWindProduction        5\n",
       "SystemLoadEP2               2\n",
       "SMPEP2                      2\n",
       "dtype: int64"
      ]
     },
     "execution_count": 5,
     "metadata": {},
     "output_type": "execute_result"
    }
   ],
   "source": [
    "data_frame.isnull().sum()"
   ]
  },
  {
   "cell_type": "code",
   "execution_count": 6,
   "metadata": {},
   "outputs": [
    {
     "data": {
      "text/plain": [
       "(38014, 18)"
      ]
     },
     "execution_count": 6,
     "metadata": {},
     "output_type": "execute_result"
    }
   ],
   "source": [
    "data_frame.shape"
   ]
  },
  {
   "cell_type": "code",
   "execution_count": 7,
   "metadata": {},
   "outputs": [
    {
     "name": "stdout",
     "output_type": "stream",
     "text": [
      "<class 'pandas.core.frame.DataFrame'>\n",
      "Int64Index: 37682 entries, 0 to 38013\n",
      "Data columns (total 18 columns):\n",
      " #   Column                  Non-Null Count  Dtype  \n",
      "---  ------                  --------------  -----  \n",
      " 0   DateTime                37682 non-null  object \n",
      " 1   Holiday                 37682 non-null  object \n",
      " 2   HolidayFlag             37682 non-null  int64  \n",
      " 3   DayOfWeek               37682 non-null  int64  \n",
      " 4   WeekOfYear              37682 non-null  int64  \n",
      " 5   Day                     37682 non-null  int64  \n",
      " 6   Month                   37682 non-null  int64  \n",
      " 7   Year                    37682 non-null  int64  \n",
      " 8   PeriodOfDay             37682 non-null  int64  \n",
      " 9   ForecastWindProduction  37682 non-null  float64\n",
      " 10  SystemLoadEA            37682 non-null  float64\n",
      " 11  SMPEA                   37682 non-null  float64\n",
      " 12  ORKTemperature          37682 non-null  float64\n",
      " 13  ORKWindspeed            37682 non-null  float64\n",
      " 14  CO2Intensity            37682 non-null  float64\n",
      " 15  ActualWindProduction    37682 non-null  float64\n",
      " 16  SystemLoadEP2           37682 non-null  float64\n",
      " 17  SMPEP2                  37682 non-null  float64\n",
      "dtypes: float64(9), int64(7), object(2)\n",
      "memory usage: 5.5+ MB\n"
     ]
    }
   ],
   "source": [
    "data_frame = data_frame.dropna()\n",
    "data_frame.info()"
   ]
  },
  {
   "cell_type": "code",
   "execution_count": 9,
   "metadata": {},
   "outputs": [],
   "source": [
    "data_frame = data_frame.drop(['DateTime'], axis = 1)"
   ]
  },
  {
   "cell_type": "code",
   "execution_count": 10,
   "metadata": {},
   "outputs": [
    {
     "data": {
      "text/plain": [
       "SMPEP2                    1.000000\n",
       "SMPEA                     0.618158\n",
       "SystemLoadEP2             0.517081\n",
       "SystemLoadEA              0.491096\n",
       "PeriodOfDay               0.323490\n",
       "ActualWindProduction      0.083434\n",
       "ForecastWindProduction    0.079639\n",
       "DayOfWeek                 0.069625\n",
       "Year                      0.045456\n",
       "ORKWindspeed              0.035436\n",
       "CO2Intensity              0.035055\n",
       "WeekOfYear                0.015814\n",
       "Month                     0.014918\n",
       "Day                       0.012801\n",
       "ORKTemperature            0.009087\n",
       "HolidayFlag               0.001838\n",
       "Name: SMPEP2, dtype: float64"
      ]
     },
     "execution_count": 10,
     "metadata": {},
     "output_type": "execute_result"
    }
   ],
   "source": [
    "data_frame.corr().abs()['SMPEP2'].sort_values(ascending = False)"
   ]
  },
  {
   "cell_type": "code",
   "execution_count": 11,
   "metadata": {},
   "outputs": [],
   "source": [
    "X = data_frame[['ActualWindProduction', 'SystemLoadEP2', 'SMPEA', 'SystemLoadEA', 'ForecastWindProduction', \n",
    "     'DayOfWeek', 'Year', 'ORKWindspeed', 'CO2Intensity', 'PeriodOfDay']]\n",
    "y = data_frame['SMPEP2']"
   ]
  },
  {
   "cell_type": "code",
   "execution_count": 17,
   "metadata": {},
   "outputs": [],
   "source": [
    "X_train, X_test, y_train, y_test = train_test_split(X, y, test_size = 0.1, random_state = 42)\n",
    "sc = StandardScaler()\n",
    "X_train = sc.fit_transform(X_train)\n",
    "X_test = sc.transform(X_test)"
   ]
  },
  {
   "cell_type": "markdown",
   "metadata": {},
   "source": [
    "# RandomForestRegressor"
   ]
  },
  {
   "cell_type": "code",
   "execution_count": 18,
   "metadata": {},
   "outputs": [
    {
     "name": "stdout",
     "output_type": "stream",
     "text": [
      "0.6030429964071173\n",
      "Mean Squared Error: 469.45\n",
      "146.53125\n",
      "Wall time: 22 s\n"
     ]
    }
   ],
   "source": [
    "%%time\n",
    "rfgT_start=process_time()\n",
    "# Split the dataset into training and testing sets\n",
    "#X_train, X_test, y_train, y_test = train_test_split(X, y, test_size=0.2, random_state=42)\n",
    "rf_regressor = RandomForestRegressor(n_estimators=100, random_state=42, n_jobs=9)\n",
    "rf_regressor.fit(X_train, y_train)\n",
    "y_pred = rf_regressor.predict(X_test)\n",
    "mse = mean_squared_error(y_test, y_pred)\n",
    "print(r2_score(y_test, y_pred))\n",
    "print(f\"Mean Squared Error: {mse:.2f}\")\n",
    "rfgT_stop=process_time()\n",
    "print(rfgT_stop-rfgT_start)"
   ]
  },
  {
   "cell_type": "markdown",
   "metadata": {},
   "source": [
    "# XGBoost"
   ]
  },
  {
   "cell_type": "code",
   "execution_count": 19,
   "metadata": {},
   "outputs": [
    {
     "data": {
      "text/plain": [
       "0.6187556535493742"
      ]
     },
     "execution_count": 19,
     "metadata": {},
     "output_type": "execute_result"
    }
   ],
   "source": [
    "model2 = XGBRegressor(n_estimators = 8000, max_depth=17, eta=0.1, subsample=0.7, colsample_bytree=0.8, nthread=4)\n",
    "model2.fit(X_train, y_train)\n",
    "pred = model2.predict(X_test)\n",
    "r2_score(y_test, pred)"
   ]
  },
  {
   "cell_type": "code",
   "execution_count": 16,
   "metadata": {},
   "outputs": [
    {
     "data": {
      "text/plain": [
       "0.5604185358523899"
      ]
     },
     "execution_count": 16,
     "metadata": {},
     "output_type": "execute_result"
    }
   ],
   "source": [
    "#xgT_start = process_time()\n",
    "xgboost = XGBRegressor(n_estimators = 8000, max_depth=17, eta=0.1, subsample=0.7, colsample_bytree=0.8, nthread=4)\n",
    "xgboost.fit(X_train, y_train)\n",
    "pred = xgboost.predict(X_test)\n",
    "r2_score(y_test, pred)\n",
    "#xgT_stop = process_time()\n",
    "#print(xgT_stop-xgT_start)"
   ]
  },
  {
   "cell_type": "markdown",
   "metadata": {},
   "source": [
    "# Keras(Sequential)"
   ]
  },
  {
   "cell_type": "code",
   "execution_count": 58,
   "metadata": {},
   "outputs": [
    {
     "name": "stdout",
     "output_type": "stream",
     "text": [
      "Epoch 1/50\n",
      "603/603 [==============================] - 13s 20ms/step - loss: 5322.1235 - mse: 5322.1235 - mae: 28.6737 - val_loss: 888.6304 - val_mse: 888.6304 - val_mae: 15.5363\n",
      "Epoch 2/50\n",
      "603/603 [==============================] - 12s 20ms/step - loss: 881.5679 - mse: 881.5679 - mae: 18.0345 - val_loss: 967.3268 - val_mse: 967.3268 - val_mae: 16.6420\n",
      "Epoch 3/50\n",
      "603/603 [==============================] - 12s 19ms/step - loss: 857.0909 - mse: 857.0909 - mae: 17.8430 - val_loss: 822.8918 - val_mse: 822.8918 - val_mae: 14.9121\n",
      "Epoch 4/50\n",
      "603/603 [==============================] - 12s 20ms/step - loss: 800.8296 - mse: 800.8296 - mae: 17.1755 - val_loss: 1314.5341 - val_mse: 1314.5341 - val_mae: 22.0898\n",
      "Epoch 5/50\n",
      "603/603 [==============================] - 12s 20ms/step - loss: 800.9105 - mse: 800.9105 - mae: 16.9350 - val_loss: 1163.0358 - val_mse: 1163.0358 - val_mae: 20.3018\n",
      "Epoch 6/50\n",
      "603/603 [==============================] - 12s 20ms/step - loss: 808.4933 - mse: 808.4933 - mae: 17.0054 - val_loss: 1393.6136 - val_mse: 1393.6136 - val_mae: 24.8147\n",
      "Epoch 7/50\n",
      "603/603 [==============================] - 12s 20ms/step - loss: 783.3303 - mse: 783.3303 - mae: 16.5964 - val_loss: 996.5403 - val_mse: 996.5403 - val_mae: 16.2974\n",
      "Epoch 8/50\n",
      "603/603 [==============================] - 12s 20ms/step - loss: 773.3148 - mse: 773.3148 - mae: 16.5506 - val_loss: 1464.1296 - val_mse: 1464.1296 - val_mae: 25.2475\n",
      "Epoch 9/50\n",
      "603/603 [==============================] - 12s 20ms/step - loss: 762.6113 - mse: 762.6113 - mae: 16.2762 - val_loss: 1430.9490 - val_mse: 1430.9490 - val_mae: 23.7610\n",
      "Epoch 10/50\n",
      "603/603 [==============================] - 12s 20ms/step - loss: 749.5262 - mse: 749.5262 - mae: 15.9886 - val_loss: 1565.4698 - val_mse: 1565.4698 - val_mae: 26.5188\n",
      "Epoch 11/50\n",
      "603/603 [==============================] - 12s 20ms/step - loss: 747.7609 - mse: 747.7609 - mae: 15.9707 - val_loss: 972.6555 - val_mse: 972.6556 - val_mae: 16.0187\n",
      "Epoch 12/50\n",
      "603/603 [==============================] - 13s 21ms/step - loss: 740.9324 - mse: 740.9324 - mae: 15.8833 - val_loss: 1251.0310 - val_mse: 1251.0310 - val_mae: 22.0819\n",
      "Epoch 13/50\n",
      "603/603 [==============================] - 13s 21ms/step - loss: 733.2667 - mse: 733.2667 - mae: 15.6977 - val_loss: 1140.1605 - val_mse: 1140.1605 - val_mae: 19.6848\n",
      "201.53125\n",
      "MAE: 14.912076121357213\n",
      "R2_score: 0.36646002465782\n",
      "Wall time: 2min 40s\n"
     ]
    }
   ],
   "source": [
    "%%time\n",
    "kerasT_start = process_time()\n",
    "keras_sequential_model = keras.Sequential([\n",
    "        keras.layers.Dense(512, activation=\"relu\", input_shape=[10]),\n",
    "        keras.layers.Dense(800, activation=\"relu\"),\n",
    "        keras.layers.Dropout(0.3),\n",
    "        keras.layers.Dense(1024, activation=\"relu\"),\n",
    "        keras.layers.Dropout(0.3),\n",
    "        keras.layers.Dense(1, activation = 'linear'),\n",
    "        ])\n",
    "keras_sequential_model.compile(loss='mse', optimizer='adam', metrics=['mse','mae'])\n",
    "early_stopping = keras.callbacks.EarlyStopping(patience = 10, min_delta = 0.001, restore_best_weights =True )\n",
    "history = keras_sequential_model.fit(\n",
    "    X_train, y_train,\n",
    "    validation_data=(X_test, y_test),\n",
    "    batch_size=50,\n",
    "    epochs=50,\n",
    "    callbacks=[early_stopping],\n",
    "    verbose=1, \n",
    ")\n",
    "predictions = keras_sequential_model.predict(X_test)\n",
    "kerasT_stop = process_time()\n",
    "print(kerasT_stop-kerasT_start)\n",
    "print(f\"MAE: {mean_absolute_error(y_test, predictions)}\")\n",
    "print(f\"R2_score: {r2_score(y_test, predictions)}\")"
   ]
  },
  {
   "cell_type": "markdown",
   "metadata": {},
   "source": [
    "# Ensemble of Algorithms and Evaluation"
   ]
  },
  {
   "cell_type": "code",
   "execution_count": 59,
   "metadata": {},
   "outputs": [
    {
     "name": "stdout",
     "output_type": "stream",
     "text": [
      "Ensemble Mean Squared Error: 615.49\n",
      "Ensemble R-squared: 0.53\n",
      "113.109375\n",
      "Wall time: 1min 37s\n"
     ]
    }
   ],
   "source": [
    "%%time\n",
    "ensembleT_start = process_time()\n",
    "rf_regressor = RandomForestRegressor(n_estimators=100, random_state=42, n_jobs=5)\n",
    "rf_regressor.fit(X_train, y_train)\n",
    "xgb_regressor = XGBRegressor(n_estimators=100, random_state=42)\n",
    "xgb_regressor.fit(X_train, y_train)\n",
    "model = keras.Sequential()\n",
    "model.add(Dense(64, activation='relu', input_dim=X_train.shape[1]))\n",
    "model.add(Dense(32, activation='relu'))\n",
    "model.add(Dense(1, activation='linear'))\n",
    "model.compile(loss='mean_squared_error', optimizer='adam')\n",
    "model.fit(X_train, y_train, epochs=50, batch_size=32, verbose=0)\n",
    "\n",
    "rf_predictions = rf_regressor.predict(X_test)\n",
    "xgb_predictions = xgb_regressor.predict(X_test)\n",
    "keras_predictions = model.predict(X_test)\n",
    "\n",
    "# Combine predictions using simple averaging\n",
    "ensemble_predictions = (rf_predictions + xgb_predictions + keras_predictions.flatten()) / 3\n",
    "ensemble_mse = np.mean((ensemble_predictions - y_test) ** 2)\n",
    "print(f\"Ensemble Mean Squared Error: {ensemble_mse:.2f}\")\n",
    "\n",
    "# Calculate R-squared for the ensemble\n",
    "ensemble_r2 = r2_score(y_test, ensemble_predictions)\n",
    "ensembleT_stop = process_time()\n",
    "print(f\"Ensemble R-squared: {ensemble_r2:.2f}\")\n",
    "print(ensembleT_stop-ensembleT_start)"
   ]
  }
 ],
 "metadata": {
  "kernelspec": {
   "display_name": "Python 3",
   "language": "python",
   "name": "python3"
  },
  "language_info": {
   "codemirror_mode": {
    "name": "ipython",
    "version": 3
   },
   "file_extension": ".py",
   "mimetype": "text/x-python",
   "name": "python",
   "nbconvert_exporter": "python",
   "pygments_lexer": "ipython3",
   "version": "3.8.5"
  }
 },
 "nbformat": 4,
 "nbformat_minor": 4
}
