{
 "cells": [
  {
   "cell_type": "code",
   "execution_count": 2,
   "metadata": {},
   "outputs": [],
   "source": [
    "import numpy as np\n",
    "import pandas as pd\n",
    "from sklearn.model_selection import train_test_split\n",
    "from sklearn.metrics import mean_squared_error\n",
    "from sklearn.metrics import mean_absolute_error,r2_score\n",
    "from sklearn.metrics import accuracy_score\n",
    "from sklearn.preprocessing import StandardScaler\n",
    "from sklearn.ensemble import RandomForestRegressor\n",
    "from sklearn.neural_network import MLPClassifier\n",
    "from sklearn.metrics import confusion_matrix\n",
    "from math import sqrt\n",
    "from xgboost import XGBRegressor\n",
    "import keras\n",
    "from keras.models import Sequential\n",
    "from keras.layers import Dense\n",
    "from time import process_time"
   ]
  },
  {
   "cell_type": "code",
   "execution_count": null,
   "metadata": {},
   "outputs": [],
   "source": [
    "data_frame = pd.read_csv(\"electricity_prices.csv\", na_values=['?'])\n",
    "data_frame.head()\n",
    "data_frame.isnull().sum()\n",
    "data_frame.shape\n",
    "data_frame = data_frame.dropna()\n",
    "data_frame = data_frame.drop(['DateTime'], axis = 1)\n",
    "data_frame.corr().abs()['SMPEP2'].sort_values(ascending = False)\n",
    "X = data_frame[['ActualWindProduction', 'SystemLoadEP2', 'SMPEA', 'SystemLoadEA', 'ForecastWindProduction', \n",
    "     'DayOfWeek', 'Year', 'ORKWindspeed', 'CO2Intensity', 'PeriodOfDay']]\n",
    "y = data_frame['SMPEP2']\n",
    "X_train, X_test, y_train, y_test = train_test_split(X, y, test_size = 0.1, random_state = 42)\n",
    "sc = StandardScaler()\n",
    "X_train = sc.fit_transform(X_train)\n",
    "X_test = sc.transform(X_test)"
   ]
  },
  {
   "cell_type": "markdown",
   "metadata": {},
   "source": [
    "# READING AND PREPROCESSING DATA"
   ]
  },
  {
   "cell_type": "code",
   "execution_count": 3,
   "metadata": {},
   "outputs": [
    {
     "data": {
      "text/html": [
       "<div>\n",
       "<style scoped>\n",
       "    .dataframe tbody tr th:only-of-type {\n",
       "        vertical-align: middle;\n",
       "    }\n",
       "\n",
       "    .dataframe tbody tr th {\n",
       "        vertical-align: top;\n",
       "    }\n",
       "\n",
       "    .dataframe thead th {\n",
       "        text-align: right;\n",
       "    }\n",
       "</style>\n",
       "<table border=\"1\" class=\"dataframe\">\n",
       "  <thead>\n",
       "    <tr style=\"text-align: right;\">\n",
       "      <th></th>\n",
       "      <th>DateTime</th>\n",
       "      <th>Holiday</th>\n",
       "      <th>HolidayFlag</th>\n",
       "      <th>DayOfWeek</th>\n",
       "      <th>WeekOfYear</th>\n",
       "      <th>Day</th>\n",
       "      <th>Month</th>\n",
       "      <th>Year</th>\n",
       "      <th>PeriodOfDay</th>\n",
       "      <th>ForecastWindProduction</th>\n",
       "      <th>SystemLoadEA</th>\n",
       "      <th>SMPEA</th>\n",
       "      <th>ORKTemperature</th>\n",
       "      <th>ORKWindspeed</th>\n",
       "      <th>CO2Intensity</th>\n",
       "      <th>ActualWindProduction</th>\n",
       "      <th>SystemLoadEP2</th>\n",
       "      <th>SMPEP2</th>\n",
       "    </tr>\n",
       "  </thead>\n",
       "  <tbody>\n",
       "    <tr>\n",
       "      <th>0</th>\n",
       "      <td>01/11/2011 00:00</td>\n",
       "      <td>None</td>\n",
       "      <td>0</td>\n",
       "      <td>1</td>\n",
       "      <td>44</td>\n",
       "      <td>1</td>\n",
       "      <td>11</td>\n",
       "      <td>2011</td>\n",
       "      <td>0</td>\n",
       "      <td>315.31</td>\n",
       "      <td>3388.77</td>\n",
       "      <td>49.26</td>\n",
       "      <td>6.0</td>\n",
       "      <td>9.3</td>\n",
       "      <td>600.71</td>\n",
       "      <td>356.0</td>\n",
       "      <td>3159.60</td>\n",
       "      <td>54.32</td>\n",
       "    </tr>\n",
       "    <tr>\n",
       "      <th>1</th>\n",
       "      <td>01/11/2011 00:30</td>\n",
       "      <td>None</td>\n",
       "      <td>0</td>\n",
       "      <td>1</td>\n",
       "      <td>44</td>\n",
       "      <td>1</td>\n",
       "      <td>11</td>\n",
       "      <td>2011</td>\n",
       "      <td>1</td>\n",
       "      <td>321.80</td>\n",
       "      <td>3196.66</td>\n",
       "      <td>49.26</td>\n",
       "      <td>6.0</td>\n",
       "      <td>11.1</td>\n",
       "      <td>605.42</td>\n",
       "      <td>317.0</td>\n",
       "      <td>2973.01</td>\n",
       "      <td>54.23</td>\n",
       "    </tr>\n",
       "    <tr>\n",
       "      <th>2</th>\n",
       "      <td>01/11/2011 01:00</td>\n",
       "      <td>None</td>\n",
       "      <td>0</td>\n",
       "      <td>1</td>\n",
       "      <td>44</td>\n",
       "      <td>1</td>\n",
       "      <td>11</td>\n",
       "      <td>2011</td>\n",
       "      <td>2</td>\n",
       "      <td>328.57</td>\n",
       "      <td>3060.71</td>\n",
       "      <td>49.10</td>\n",
       "      <td>5.0</td>\n",
       "      <td>11.1</td>\n",
       "      <td>589.97</td>\n",
       "      <td>311.0</td>\n",
       "      <td>2834.00</td>\n",
       "      <td>54.23</td>\n",
       "    </tr>\n",
       "    <tr>\n",
       "      <th>3</th>\n",
       "      <td>01/11/2011 01:30</td>\n",
       "      <td>None</td>\n",
       "      <td>0</td>\n",
       "      <td>1</td>\n",
       "      <td>44</td>\n",
       "      <td>1</td>\n",
       "      <td>11</td>\n",
       "      <td>2011</td>\n",
       "      <td>3</td>\n",
       "      <td>335.60</td>\n",
       "      <td>2945.56</td>\n",
       "      <td>48.04</td>\n",
       "      <td>6.0</td>\n",
       "      <td>9.3</td>\n",
       "      <td>585.94</td>\n",
       "      <td>313.0</td>\n",
       "      <td>2725.99</td>\n",
       "      <td>53.47</td>\n",
       "    </tr>\n",
       "    <tr>\n",
       "      <th>4</th>\n",
       "      <td>01/11/2011 02:00</td>\n",
       "      <td>None</td>\n",
       "      <td>0</td>\n",
       "      <td>1</td>\n",
       "      <td>44</td>\n",
       "      <td>1</td>\n",
       "      <td>11</td>\n",
       "      <td>2011</td>\n",
       "      <td>4</td>\n",
       "      <td>342.90</td>\n",
       "      <td>2849.34</td>\n",
       "      <td>33.75</td>\n",
       "      <td>6.0</td>\n",
       "      <td>11.1</td>\n",
       "      <td>571.52</td>\n",
       "      <td>346.0</td>\n",
       "      <td>2655.64</td>\n",
       "      <td>39.87</td>\n",
       "    </tr>\n",
       "  </tbody>\n",
       "</table>\n",
       "</div>"
      ],
      "text/plain": [
       "           DateTime Holiday  HolidayFlag  DayOfWeek  WeekOfYear  Day  Month  \\\n",
       "0  01/11/2011 00:00    None            0          1          44    1     11   \n",
       "1  01/11/2011 00:30    None            0          1          44    1     11   \n",
       "2  01/11/2011 01:00    None            0          1          44    1     11   \n",
       "3  01/11/2011 01:30    None            0          1          44    1     11   \n",
       "4  01/11/2011 02:00    None            0          1          44    1     11   \n",
       "\n",
       "   Year  PeriodOfDay  ForecastWindProduction  SystemLoadEA  SMPEA  \\\n",
       "0  2011            0                  315.31       3388.77  49.26   \n",
       "1  2011            1                  321.80       3196.66  49.26   \n",
       "2  2011            2                  328.57       3060.71  49.10   \n",
       "3  2011            3                  335.60       2945.56  48.04   \n",
       "4  2011            4                  342.90       2849.34  33.75   \n",
       "\n",
       "   ORKTemperature  ORKWindspeed  CO2Intensity  ActualWindProduction  \\\n",
       "0             6.0           9.3        600.71                 356.0   \n",
       "1             6.0          11.1        605.42                 317.0   \n",
       "2             5.0          11.1        589.97                 311.0   \n",
       "3             6.0           9.3        585.94                 313.0   \n",
       "4             6.0          11.1        571.52                 346.0   \n",
       "\n",
       "   SystemLoadEP2  SMPEP2  \n",
       "0        3159.60   54.32  \n",
       "1        2973.01   54.23  \n",
       "2        2834.00   54.23  \n",
       "3        2725.99   53.47  \n",
       "4        2655.64   39.87  "
      ]
     },
     "execution_count": 3,
     "metadata": {},
     "output_type": "execute_result"
    }
   ],
   "source": [
    "data_frame = pd.read_csv(\"electricity_prices.csv\", na_values=['?'])\n",
    "data_frame.head()"
   ]
  },
  {
   "cell_type": "code",
   "execution_count": 4,
   "metadata": {},
   "outputs": [
    {
     "name": "stdout",
     "output_type": "stream",
     "text": [
      "<class 'pandas.core.frame.DataFrame'>\n",
      "RangeIndex: 38014 entries, 0 to 38013\n",
      "Data columns (total 18 columns):\n",
      " #   Column                  Non-Null Count  Dtype  \n",
      "---  ------                  --------------  -----  \n",
      " 0   DateTime                38014 non-null  object \n",
      " 1   Holiday                 38014 non-null  object \n",
      " 2   HolidayFlag             38014 non-null  int64  \n",
      " 3   DayOfWeek               38014 non-null  int64  \n",
      " 4   WeekOfYear              38014 non-null  int64  \n",
      " 5   Day                     38014 non-null  int64  \n",
      " 6   Month                   38014 non-null  int64  \n",
      " 7   Year                    38014 non-null  int64  \n",
      " 8   PeriodOfDay             38014 non-null  int64  \n",
      " 9   ForecastWindProduction  38009 non-null  float64\n",
      " 10  SystemLoadEA            38012 non-null  float64\n",
      " 11  SMPEA                   38012 non-null  float64\n",
      " 12  ORKTemperature          37719 non-null  float64\n",
      " 13  ORKWindspeed            37715 non-null  float64\n",
      " 14  CO2Intensity            38007 non-null  float64\n",
      " 15  ActualWindProduction    38009 non-null  float64\n",
      " 16  SystemLoadEP2           38012 non-null  float64\n",
      " 17  SMPEP2                  38012 non-null  float64\n",
      "dtypes: float64(9), int64(7), object(2)\n",
      "memory usage: 5.2+ MB\n"
     ]
    }
   ],
   "source": [
    "data_frame.info()"
   ]
  },
  {
   "cell_type": "code",
   "execution_count": 5,
   "metadata": {},
   "outputs": [
    {
     "data": {
      "text/plain": [
       "DateTime                    0\n",
       "Holiday                     0\n",
       "HolidayFlag                 0\n",
       "DayOfWeek                   0\n",
       "WeekOfYear                  0\n",
       "Day                         0\n",
       "Month                       0\n",
       "Year                        0\n",
       "PeriodOfDay                 0\n",
       "ForecastWindProduction      5\n",
       "SystemLoadEA                2\n",
       "SMPEA                       2\n",
       "ORKTemperature            295\n",
       "ORKWindspeed              299\n",
       "CO2Intensity                7\n",
       "ActualWindProduction        5\n",
       "SystemLoadEP2               2\n",
       "SMPEP2                      2\n",
       "dtype: int64"
      ]
     },
     "execution_count": 5,
     "metadata": {},
     "output_type": "execute_result"
    }
   ],
   "source": [
    "data_frame.isnull().sum()"
   ]
  },
  {
   "cell_type": "code",
   "execution_count": 6,
   "metadata": {},
   "outputs": [
    {
     "data": {
      "text/plain": [
       "(38014, 18)"
      ]
     },
     "execution_count": 6,
     "metadata": {},
     "output_type": "execute_result"
    }
   ],
   "source": [
    "data_frame.shape"
   ]
  },
  {
   "cell_type": "code",
   "execution_count": 7,
   "metadata": {},
   "outputs": [
    {
     "name": "stdout",
     "output_type": "stream",
     "text": [
      "<class 'pandas.core.frame.DataFrame'>\n",
      "Int64Index: 37682 entries, 0 to 38013\n",
      "Data columns (total 18 columns):\n",
      " #   Column                  Non-Null Count  Dtype  \n",
      "---  ------                  --------------  -----  \n",
      " 0   DateTime                37682 non-null  object \n",
      " 1   Holiday                 37682 non-null  object \n",
      " 2   HolidayFlag             37682 non-null  int64  \n",
      " 3   DayOfWeek               37682 non-null  int64  \n",
      " 4   WeekOfYear              37682 non-null  int64  \n",
      " 5   Day                     37682 non-null  int64  \n",
      " 6   Month                   37682 non-null  int64  \n",
      " 7   Year                    37682 non-null  int64  \n",
      " 8   PeriodOfDay             37682 non-null  int64  \n",
      " 9   ForecastWindProduction  37682 non-null  float64\n",
      " 10  SystemLoadEA            37682 non-null  float64\n",
      " 11  SMPEA                   37682 non-null  float64\n",
      " 12  ORKTemperature          37682 non-null  float64\n",
      " 13  ORKWindspeed            37682 non-null  float64\n",
      " 14  CO2Intensity            37682 non-null  float64\n",
      " 15  ActualWindProduction    37682 non-null  float64\n",
      " 16  SystemLoadEP2           37682 non-null  float64\n",
      " 17  SMPEP2                  37682 non-null  float64\n",
      "dtypes: float64(9), int64(7), object(2)\n",
      "memory usage: 5.5+ MB\n"
     ]
    }
   ],
   "source": [
    "data_frame = data_frame.dropna()\n",
    "data_frame.info()"
   ]
  },
  {
   "cell_type": "code",
   "execution_count": 8,
   "metadata": {},
   "outputs": [],
   "source": [
    "data_frame = data_frame.drop(['DateTime'], axis = 1)"
   ]
  },
  {
   "cell_type": "code",
   "execution_count": 9,
   "metadata": {},
   "outputs": [
    {
     "data": {
      "text/plain": [
       "SMPEP2                    1.000000\n",
       "SMPEA                     0.618158\n",
       "SystemLoadEP2             0.517081\n",
       "SystemLoadEA              0.491096\n",
       "PeriodOfDay               0.323490\n",
       "ActualWindProduction      0.083434\n",
       "ForecastWindProduction    0.079639\n",
       "DayOfWeek                 0.069625\n",
       "Year                      0.045456\n",
       "ORKWindspeed              0.035436\n",
       "CO2Intensity              0.035055\n",
       "WeekOfYear                0.015814\n",
       "Month                     0.014918\n",
       "Day                       0.012801\n",
       "ORKTemperature            0.009087\n",
       "HolidayFlag               0.001838\n",
       "Name: SMPEP2, dtype: float64"
      ]
     },
     "execution_count": 9,
     "metadata": {},
     "output_type": "execute_result"
    }
   ],
   "source": [
    "data_frame.corr().abs()['SMPEP2'].sort_values(ascending = False)"
   ]
  },
  {
   "cell_type": "code",
   "execution_count": 10,
   "metadata": {},
   "outputs": [],
   "source": [
    "X = data_frame[['ActualWindProduction', 'SystemLoadEP2', 'SMPEA', 'SystemLoadEA', 'ForecastWindProduction', \n",
    "     'DayOfWeek', 'Year', 'ORKWindspeed', 'CO2Intensity', 'PeriodOfDay']]\n",
    "y = data_frame['SMPEP2']"
   ]
  },
  {
   "cell_type": "code",
   "execution_count": 11,
   "metadata": {},
   "outputs": [],
   "source": [
    "X_train, X_test, y_train, y_test = train_test_split(X, y, test_size = 0.1, random_state = 42)\n",
    "sc = StandardScaler()\n",
    "X_train = sc.fit_transform(X_train)\n",
    "X_test = sc.transform(X_test)"
   ]
  },
  {
   "cell_type": "markdown",
   "metadata": {},
   "source": [
    "# RandomForestRegressor"
   ]
  },
  {
   "cell_type": "code",
   "execution_count": 12,
   "metadata": {},
   "outputs": [
    {
     "name": "stdout",
     "output_type": "stream",
     "text": [
      "0.6030429964071172\n",
      "Mean Squared Error: 469.45\n",
      "141.546875\n",
      "Wall time: 23.4 s\n"
     ]
    }
   ],
   "source": [
    "%%time\n",
    "rfgT_start=process_time()\n",
    "rf_regressor = RandomForestRegressor(n_estimators=100, random_state=42, n_jobs=9)\n",
    "rf_regressor.fit(X_train, y_train)\n",
    "y_pred = rf_regressor.predict(X_test)\n",
    "mse = mean_squared_error(y_test, y_pred)\n",
    "print(r2_score(y_test, y_pred))\n",
    "print(f\"Mean Squared Error: {mse:.2f}\")\n",
    "rfgT_stop=process_time()\n",
    "print(rfgT_stop-rfgT_start)"
   ]
  },
  {
   "cell_type": "markdown",
   "metadata": {},
   "source": [
    "# XGBoost"
   ]
  },
  {
   "cell_type": "code",
   "execution_count": 13,
   "metadata": {},
   "outputs": [
    {
     "name": "stdout",
     "output_type": "stream",
     "text": [
      "645.140625\n",
      "Wall time: 4min 33s\n"
     ]
    }
   ],
   "source": [
    "%%time\n",
    "xgT_start = process_time()\n",
    "xgboost = XGBRegressor(n_estimators = 8000, max_depth=17, eta=0.1, subsample=0.7, colsample_bytree=0.8, nthread=4)\n",
    "xgboost.fit(X_train, y_train)\n",
    "pred = xgboost.predict(X_test)\n",
    "print(r2_score(y_test, pred))\n",
    "xgT_stop = process_time()\n",
    "print(xgT_stop-xgT_start)"
   ]
  },
  {
   "cell_type": "markdown",
   "metadata": {},
   "source": [
    "# Keras(Sequential)"
   ]
  },
  {
   "cell_type": "code",
   "execution_count": 14,
   "metadata": {},
   "outputs": [
    {
     "name": "stdout",
     "output_type": "stream",
     "text": [
      "Epoch 1/50\n",
      "679/679 [==============================] - 11s 15ms/step - loss: 803.6745 - mse: 803.6745 - mae: 16.6141 - val_loss: 660.5483 - val_mse: 660.5483 - val_mae: 13.6515\n",
      "Epoch 2/50\n",
      "679/679 [==============================] - 14s 21ms/step - loss: 710.3124 - mse: 710.3124 - mae: 14.8865 - val_loss: 932.3170 - val_mse: 932.3170 - val_mae: 21.8368\n",
      "Epoch 3/50\n",
      "679/679 [==============================] - 13s 19ms/step - loss: 701.0263 - mse: 701.0262 - mae: 14.8149 - val_loss: 714.7062 - val_mse: 714.7062 - val_mae: 16.5233\n",
      "Epoch 4/50\n",
      "679/679 [==============================] - 13s 19ms/step - loss: 695.2719 - mse: 695.2719 - mae: 14.6735 - val_loss: 608.7009 - val_mse: 608.7009 - val_mae: 13.8622\n",
      "Epoch 5/50\n",
      "679/679 [==============================] - 13s 19ms/step - loss: 684.0505 - mse: 684.0505 - mae: 14.4388 - val_loss: 619.7159 - val_mse: 619.7159 - val_mae: 13.7142\n",
      "Epoch 6/50\n",
      "679/679 [==============================] - 12s 17ms/step - loss: 682.2598 - mse: 682.2598 - mae: 14.3749 - val_loss: 592.7544 - val_mse: 592.7544 - val_mae: 13.3883\n",
      "Epoch 7/50\n",
      "679/679 [==============================] - 12s 18ms/step - loss: 679.3396 - mse: 679.3396 - mae: 14.3418 - val_loss: 594.5688 - val_mse: 594.5688 - val_mae: 13.5249\n",
      "Epoch 8/50\n",
      "679/679 [==============================] - 12s 18ms/step - loss: 669.5833 - mse: 669.5833 - mae: 14.2004 - val_loss: 624.3247 - val_mse: 624.3247 - val_mae: 15.1088\n",
      "Epoch 9/50\n",
      "679/679 [==============================] - 15s 21ms/step - loss: 665.6016 - mse: 665.6016 - mae: 14.1220 - val_loss: 607.7698 - val_mse: 607.7698 - val_mae: 13.9861\n",
      "Epoch 10/50\n",
      "679/679 [==============================] - 13s 19ms/step - loss: 663.6135 - mse: 663.6135 - mae: 14.1108 - val_loss: 650.1597 - val_mse: 650.1597 - val_mae: 15.5184\n",
      "Epoch 11/50\n",
      "679/679 [==============================] - 12s 18ms/step - loss: 658.9421 - mse: 658.9421 - mae: 14.0553 - val_loss: 598.3548 - val_mse: 598.3548 - val_mae: 13.8076\n",
      "Epoch 12/50\n",
      "679/679 [==============================] - 12s 18ms/step - loss: 659.1288 - mse: 659.1288 - mae: 14.0532 - val_loss: 596.4208 - val_mse: 596.4208 - val_mae: 13.1581\n",
      "Epoch 13/50\n",
      "679/679 [==============================] - 12s 18ms/step - loss: 654.5631 - mse: 654.5631 - mae: 13.9996 - val_loss: 629.3708 - val_mse: 629.3708 - val_mae: 12.7941\n",
      "Epoch 14/50\n",
      "679/679 [==============================] - 12s 18ms/step - loss: 659.7574 - mse: 659.7574 - mae: 14.0426 - val_loss: 579.5548 - val_mse: 579.5548 - val_mae: 12.6512\n",
      "Epoch 15/50\n",
      "679/679 [==============================] - 16s 23ms/step - loss: 648.4175 - mse: 648.4175 - mae: 13.8559 - val_loss: 594.3502 - val_mse: 594.3502 - val_mae: 12.8420\n",
      "Epoch 16/50\n",
      "679/679 [==============================] - 13s 19ms/step - loss: 638.9211 - mse: 638.9211 - mae: 13.7880 - val_loss: 619.5307 - val_mse: 619.5307 - val_mae: 14.6070\n",
      "Epoch 17/50\n",
      "679/679 [==============================] - 12s 17ms/step - loss: 638.8696 - mse: 638.8696 - mae: 13.6989 - val_loss: 582.7836 - val_mse: 582.7836 - val_mae: 13.6583\n",
      "Epoch 18/50\n",
      "679/679 [==============================] - 12s 17ms/step - loss: 634.6061 - mse: 634.6061 - mae: 13.7431 - val_loss: 594.0264 - val_mse: 594.0264 - val_mae: 12.5974\n",
      "Epoch 19/50\n",
      "679/679 [==============================] - 12s 18ms/step - loss: 631.5704 - mse: 631.5704 - mae: 13.6594 - val_loss: 589.2407 - val_mse: 589.2407 - val_mae: 13.5417\n",
      "Epoch 20/50\n",
      "679/679 [==============================] - 13s 19ms/step - loss: 633.3468 - mse: 633.3468 - mae: 13.6813 - val_loss: 604.2852 - val_mse: 604.2852 - val_mae: 12.6321\n",
      "Epoch 21/50\n",
      "679/679 [==============================] - 13s 19ms/step - loss: 621.8819 - mse: 621.8819 - mae: 13.5499 - val_loss: 598.6259 - val_mse: 598.6259 - val_mae: 12.4237\n",
      "Epoch 22/50\n",
      "679/679 [==============================] - 13s 19ms/step - loss: 624.6985 - mse: 624.6985 - mae: 13.5162 - val_loss: 588.2474 - val_mse: 588.2474 - val_mae: 12.4892\n",
      "Epoch 23/50\n",
      "679/679 [==============================] - 12s 18ms/step - loss: 620.2209 - mse: 620.2209 - mae: 13.4530 - val_loss: 582.9658 - val_mse: 582.9658 - val_mae: 12.8166\n",
      "Epoch 24/50\n",
      "679/679 [==============================] - 12s 18ms/step - loss: 610.5563 - mse: 610.5563 - mae: 13.3467 - val_loss: 576.8558 - val_mse: 576.8558 - val_mae: 13.1771\n",
      "Epoch 25/50\n",
      "679/679 [==============================] - 12s 18ms/step - loss: 607.2610 - mse: 607.2610 - mae: 13.2075 - val_loss: 573.0812 - val_mse: 573.0812 - val_mae: 12.8272\n",
      "Epoch 26/50\n",
      "679/679 [==============================] - 13s 19ms/step - loss: 599.0398 - mse: 599.0398 - mae: 13.1899 - val_loss: 568.8748 - val_mse: 568.8748 - val_mae: 12.1992\n",
      "Epoch 27/50\n",
      "679/679 [==============================] - 12s 18ms/step - loss: 596.7356 - mse: 596.7356 - mae: 13.0659 - val_loss: 564.1009 - val_mse: 564.1009 - val_mae: 12.2979\n",
      "Epoch 28/50\n",
      "679/679 [==============================] - 14s 21ms/step - loss: 589.6945 - mse: 589.6945 - mae: 12.9919 - val_loss: 571.1860 - val_mse: 571.1860 - val_mae: 12.7947\n",
      "Epoch 29/50\n",
      "679/679 [==============================] - 13s 19ms/step - loss: 594.1746 - mse: 594.1746 - mae: 12.9946 - val_loss: 563.8287 - val_mse: 563.8287 - val_mae: 12.7675\n",
      "Epoch 30/50\n",
      "679/679 [==============================] - 13s 19ms/step - loss: 578.8123 - mse: 578.8123 - mae: 12.8261 - val_loss: 584.8167 - val_mse: 584.8167 - val_mae: 12.2722\n",
      "Epoch 31/50\n",
      "679/679 [==============================] - 13s 19ms/step - loss: 573.7145 - mse: 573.7145 - mae: 12.7541 - val_loss: 545.4554 - val_mse: 545.4554 - val_mae: 12.3504\n",
      "Epoch 32/50\n",
      "679/679 [==============================] - 12s 18ms/step - loss: 565.4494 - mse: 565.4494 - mae: 12.6508 - val_loss: 559.5582 - val_mse: 559.5582 - val_mae: 12.4454\n",
      "Epoch 33/50\n",
      "679/679 [==============================] - 14s 20ms/step - loss: 565.7654 - mse: 565.7654 - mae: 12.6203 - val_loss: 558.1450 - val_mse: 558.1450 - val_mae: 12.4686\n",
      "Epoch 34/50\n",
      "679/679 [==============================] - 12s 17ms/step - loss: 562.5609 - mse: 562.5609 - mae: 12.5693 - val_loss: 537.8572 - val_mse: 537.8572 - val_mae: 11.5881\n",
      "Epoch 35/50\n",
      "679/679 [==============================] - 12s 18ms/step - loss: 556.9631 - mse: 556.9631 - mae: 12.5002 - val_loss: 572.9464 - val_mse: 572.9464 - val_mae: 11.8972\n",
      "Epoch 36/50\n",
      "679/679 [==============================] - 13s 19ms/step - loss: 548.4396 - mse: 548.4396 - mae: 12.4008 - val_loss: 542.4706 - val_mse: 542.4706 - val_mae: 11.8677\n",
      "Epoch 37/50\n",
      "679/679 [==============================] - 14s 21ms/step - loss: 549.0193 - mse: 549.0193 - mae: 12.2953 - val_loss: 568.3932 - val_mse: 568.3932 - val_mae: 12.5199\n",
      "Epoch 38/50\n",
      "679/679 [==============================] - 13s 19ms/step - loss: 545.7181 - mse: 545.7181 - mae: 12.2576 - val_loss: 530.8802 - val_mse: 530.8802 - val_mae: 11.6354\n",
      "Epoch 39/50\n",
      "679/679 [==============================] - 13s 19ms/step - loss: 533.3515 - mse: 533.3515 - mae: 12.0667 - val_loss: 560.7388 - val_mse: 560.7388 - val_mae: 11.4873\n",
      "Epoch 40/50\n",
      "679/679 [==============================] - 14s 20ms/step - loss: 531.5671 - mse: 531.5671 - mae: 12.0198 - val_loss: 571.3420 - val_mse: 571.3420 - val_mae: 12.9711\n",
      "Epoch 41/50\n",
      "679/679 [==============================] - 14s 20ms/step - loss: 523.1337 - mse: 523.1337 - mae: 11.9271 - val_loss: 547.7897 - val_mse: 547.7897 - val_mae: 11.8959\n",
      "Epoch 42/50\n",
      "679/679 [==============================] - 13s 19ms/step - loss: 513.3961 - mse: 513.3961 - mae: 11.8467 - val_loss: 657.0274 - val_mse: 657.0274 - val_mae: 13.4658\n",
      "Epoch 43/50\n",
      "679/679 [==============================] - 13s 19ms/step - loss: 511.3937 - mse: 511.3937 - mae: 11.7552 - val_loss: 566.8113 - val_mse: 566.8113 - val_mae: 11.8628oss: 5\n",
      "Epoch 44/50\n",
      "679/679 [==============================] - 13s 19ms/step - loss: 510.3975 - mse: 510.3975 - mae: 11.7592 - val_loss: 530.3057 - val_mse: 530.3057 - val_mae: 11.3723\n",
      "Epoch 45/50\n",
      "679/679 [==============================] - 13s 19ms/step - loss: 500.6323 - mse: 500.6323 - mae: 11.6137 - val_loss: 538.2538 - val_mse: 538.2538 - val_mae: 11.5116\n",
      "Epoch 46/50\n",
      "679/679 [==============================] - 17s 24ms/step - loss: 493.0108 - mse: 493.0108 - mae: 11.5005 - val_loss: 537.8947 - val_mse: 537.8948 - val_mae: 11.3771\n",
      "Epoch 47/50\n",
      "679/679 [==============================] - 14s 20ms/step - loss: 492.9809 - mse: 492.9809 - mae: 11.5680 - val_loss: 555.2316 - val_mse: 555.2316 - val_mae: 11.5442\n",
      "Epoch 48/50\n",
      "679/679 [==============================] - 12s 18ms/step - loss: 484.6234 - mse: 484.6234 - mae: 11.4196 - val_loss: 541.7486 - val_mse: 541.7486 - val_mae: 12.0387\n",
      "Epoch 49/50\n",
      "679/679 [==============================] - 13s 19ms/step - loss: 487.7892 - mse: 487.7892 - mae: 11.3957 - val_loss: 518.4208 - val_mse: 518.4208 - val_mae: 11.1975\n",
      "Epoch 50/50\n",
      "679/679 [==============================] - 12s 18ms/step - loss: 476.3067 - mse: 476.3067 - mae: 11.3100 - val_loss: 527.6159 - val_mse: 527.6159 - val_mae: 11.0170\n",
      "1109.921875\n",
      "MAE: 11.017017611865182\n",
      "R2_score: 0.5538580268914917\n",
      "Wall time: 10min 45s\n"
     ]
    }
   ],
   "source": [
    "%%time\n",
    "kerasT_start = process_time()\n",
    "keras_sequential_model = keras.Sequential([\n",
    "        keras.layers.Dense(512, activation=\"relu\", input_shape=[10]),\n",
    "        keras.layers.Dense(800, activation=\"relu\"),\n",
    "        keras.layers.Dropout(0.3),\n",
    "        keras.layers.Dense(1024, activation=\"relu\"),\n",
    "        keras.layers.Dropout(0.3),\n",
    "        keras.layers.Dense(1, activation = 'linear'),\n",
    "        ])\n",
    "keras_sequential_model.compile(loss='mse', optimizer='adam', metrics=['mse','mae'])\n",
    "early_stopping = keras.callbacks.EarlyStopping(patience = 10, min_delta = 0.001, restore_best_weights =True )\n",
    "history = keras_sequential_model.fit(\n",
    "    X_train, y_train,\n",
    "    validation_data=(X_test, y_test),\n",
    "    batch_size=50,\n",
    "    epochs=50,\n",
    "    callbacks=[early_stopping],\n",
    "    verbose=1, \n",
    ")\n",
    "predictions = keras_sequential_model.predict(X_test)\n",
    "kerasT_stop = process_time()\n",
    "print(kerasT_stop-kerasT_start)\n",
    "print(f\"MAE: {mean_absolute_error(y_test, predictions)}\")\n",
    "print(f\"R2_score: {r2_score(y_test, predictions)}\")"
   ]
  },
  {
   "cell_type": "markdown",
   "metadata": {},
   "source": [
    "# Ensemble of Algorithms and Evaluation"
   ]
  },
  {
   "cell_type": "code",
   "execution_count": 15,
   "metadata": {},
   "outputs": [
    {
     "name": "stdout",
     "output_type": "stream",
     "text": [
      "Ensemble Mean Squared Error: 507.30\n",
      "Ensemble R-squared: 0.57\n",
      "116.828125\n",
      "Wall time: 1min 37s\n"
     ]
    }
   ],
   "source": [
    "%%time\n",
    "ensembleT_start = process_time()\n",
    "rf_regressor = RandomForestRegressor(n_estimators=100, random_state=42, n_jobs=5)\n",
    "rf_regressor.fit(X_train, y_train)\n",
    "xgb_regressor = XGBRegressor(n_estimators=100, random_state=42)\n",
    "xgb_regressor.fit(X_train, y_train)\n",
    "model = keras.Sequential()\n",
    "model.add(Dense(64, activation='relu', input_dim=X_train.shape[1]))\n",
    "model.add(Dense(32, activation='relu'))\n",
    "model.add(Dense(1, activation='linear'))\n",
    "model.compile(loss='mean_squared_error', optimizer='adam')\n",
    "model.fit(X_train, y_train, epochs=50, batch_size=32, verbose=0)\n",
    "\n",
    "rf_predictions = rf_regressor.predict(X_test)\n",
    "xgb_predictions = xgb_regressor.predict(X_test)\n",
    "keras_predictions = model.predict(X_test)\n",
    "\n",
    "# Combine predictions using simple averaging\n",
    "ensemble_predictions = (rf_predictions + xgb_predictions + keras_predictions.flatten()) / 3\n",
    "ensemble_mse = np.mean((ensemble_predictions - y_test) ** 2)\n",
    "print(f\"Ensemble Mean Squared Error: {ensemble_mse:.2f}\")\n",
    "\n",
    "# Calculate R-squared for the ensemble\n",
    "ensemble_r2 = r2_score(y_test, ensemble_predictions)\n",
    "ensembleT_stop = process_time()\n",
    "print(f\"Ensemble R-squared: {ensemble_r2:.2f}\")\n",
    "print(ensembleT_stop-ensembleT_start)"
   ]
  },
  {
   "cell_type": "code",
   "execution_count": null,
   "metadata": {},
   "outputs": [],
   "source": []
  }
 ],
 "metadata": {
  "kernelspec": {
   "display_name": "Python 3",
   "language": "python",
   "name": "python3"
  },
  "language_info": {
   "codemirror_mode": {
    "name": "ipython",
    "version": 3
   },
   "file_extension": ".py",
   "mimetype": "text/x-python",
   "name": "python",
   "nbconvert_exporter": "python",
   "pygments_lexer": "ipython3",
   "version": "3.8.5"
  }
 },
 "nbformat": 4,
 "nbformat_minor": 4
}
