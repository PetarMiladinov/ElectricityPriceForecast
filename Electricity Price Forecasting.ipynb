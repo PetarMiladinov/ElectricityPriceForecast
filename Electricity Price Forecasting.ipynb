{
 "cells": [
  {
   "cell_type": "code",
   "execution_count": 2,
   "metadata": {},
   "outputs": [],
   "source": [
    "import numpy as np\n",
    "import pandas as pd\n",
    "from sklearn.model_selection import train_test_split\n",
    "from sklearn.metrics import mean_squared_error\n",
    "from sklearn.metrics import mean_absolute_error,r2_score\n",
    "from sklearn.metrics import accuracy_score\n",
    "from sklearn.preprocessing import StandardScaler\n",
    "from sklearn.linear_model import BayesianRidge\n",
    "from math import sqrt\n",
    "import keras\n",
    "from keras.models import Sequential\n",
    "from keras.layers import Dense"
   ]
  },
  {
   "cell_type": "code",
   "execution_count": 3,
   "metadata": {
    "scrolled": true
   },
   "outputs": [
    {
     "data": {
      "text/html": [
       "<div>\n",
       "<style scoped>\n",
       "    .dataframe tbody tr th:only-of-type {\n",
       "        vertical-align: middle;\n",
       "    }\n",
       "\n",
       "    .dataframe tbody tr th {\n",
       "        vertical-align: top;\n",
       "    }\n",
       "\n",
       "    .dataframe thead th {\n",
       "        text-align: right;\n",
       "    }\n",
       "</style>\n",
       "<table border=\"1\" class=\"dataframe\">\n",
       "  <thead>\n",
       "    <tr style=\"text-align: right;\">\n",
       "      <th></th>\n",
       "      <th>DateTime</th>\n",
       "      <th>Holiday</th>\n",
       "      <th>HolidayFlag</th>\n",
       "      <th>DayOfWeek</th>\n",
       "      <th>WeekOfYear</th>\n",
       "      <th>Day</th>\n",
       "      <th>Month</th>\n",
       "      <th>Year</th>\n",
       "      <th>PeriodOfDay</th>\n",
       "      <th>ForecastWindProduction</th>\n",
       "      <th>SystemLoadEA</th>\n",
       "      <th>SMPEA</th>\n",
       "      <th>ORKTemperature</th>\n",
       "      <th>ORKWindspeed</th>\n",
       "      <th>CO2Intensity</th>\n",
       "      <th>ActualWindProduction</th>\n",
       "      <th>SystemLoadEP2</th>\n",
       "      <th>SMPEP2</th>\n",
       "    </tr>\n",
       "  </thead>\n",
       "  <tbody>\n",
       "    <tr>\n",
       "      <th>0</th>\n",
       "      <td>01/11/2011 00:00</td>\n",
       "      <td>None</td>\n",
       "      <td>0</td>\n",
       "      <td>1</td>\n",
       "      <td>44</td>\n",
       "      <td>1</td>\n",
       "      <td>11</td>\n",
       "      <td>2011</td>\n",
       "      <td>0</td>\n",
       "      <td>315.31</td>\n",
       "      <td>3388.77</td>\n",
       "      <td>49.26</td>\n",
       "      <td>6.0</td>\n",
       "      <td>9.3</td>\n",
       "      <td>600.71</td>\n",
       "      <td>356.0</td>\n",
       "      <td>3159.60</td>\n",
       "      <td>54.32</td>\n",
       "    </tr>\n",
       "    <tr>\n",
       "      <th>1</th>\n",
       "      <td>01/11/2011 00:30</td>\n",
       "      <td>None</td>\n",
       "      <td>0</td>\n",
       "      <td>1</td>\n",
       "      <td>44</td>\n",
       "      <td>1</td>\n",
       "      <td>11</td>\n",
       "      <td>2011</td>\n",
       "      <td>1</td>\n",
       "      <td>321.80</td>\n",
       "      <td>3196.66</td>\n",
       "      <td>49.26</td>\n",
       "      <td>6.0</td>\n",
       "      <td>11.1</td>\n",
       "      <td>605.42</td>\n",
       "      <td>317.0</td>\n",
       "      <td>2973.01</td>\n",
       "      <td>54.23</td>\n",
       "    </tr>\n",
       "    <tr>\n",
       "      <th>2</th>\n",
       "      <td>01/11/2011 01:00</td>\n",
       "      <td>None</td>\n",
       "      <td>0</td>\n",
       "      <td>1</td>\n",
       "      <td>44</td>\n",
       "      <td>1</td>\n",
       "      <td>11</td>\n",
       "      <td>2011</td>\n",
       "      <td>2</td>\n",
       "      <td>328.57</td>\n",
       "      <td>3060.71</td>\n",
       "      <td>49.10</td>\n",
       "      <td>5.0</td>\n",
       "      <td>11.1</td>\n",
       "      <td>589.97</td>\n",
       "      <td>311.0</td>\n",
       "      <td>2834.00</td>\n",
       "      <td>54.23</td>\n",
       "    </tr>\n",
       "    <tr>\n",
       "      <th>3</th>\n",
       "      <td>01/11/2011 01:30</td>\n",
       "      <td>None</td>\n",
       "      <td>0</td>\n",
       "      <td>1</td>\n",
       "      <td>44</td>\n",
       "      <td>1</td>\n",
       "      <td>11</td>\n",
       "      <td>2011</td>\n",
       "      <td>3</td>\n",
       "      <td>335.60</td>\n",
       "      <td>2945.56</td>\n",
       "      <td>48.04</td>\n",
       "      <td>6.0</td>\n",
       "      <td>9.3</td>\n",
       "      <td>585.94</td>\n",
       "      <td>313.0</td>\n",
       "      <td>2725.99</td>\n",
       "      <td>53.47</td>\n",
       "    </tr>\n",
       "    <tr>\n",
       "      <th>4</th>\n",
       "      <td>01/11/2011 02:00</td>\n",
       "      <td>None</td>\n",
       "      <td>0</td>\n",
       "      <td>1</td>\n",
       "      <td>44</td>\n",
       "      <td>1</td>\n",
       "      <td>11</td>\n",
       "      <td>2011</td>\n",
       "      <td>4</td>\n",
       "      <td>342.90</td>\n",
       "      <td>2849.34</td>\n",
       "      <td>33.75</td>\n",
       "      <td>6.0</td>\n",
       "      <td>11.1</td>\n",
       "      <td>571.52</td>\n",
       "      <td>346.0</td>\n",
       "      <td>2655.64</td>\n",
       "      <td>39.87</td>\n",
       "    </tr>\n",
       "  </tbody>\n",
       "</table>\n",
       "</div>"
      ],
      "text/plain": [
       "           DateTime Holiday  HolidayFlag  DayOfWeek  WeekOfYear  Day  Month  \\\n",
       "0  01/11/2011 00:00    None            0          1          44    1     11   \n",
       "1  01/11/2011 00:30    None            0          1          44    1     11   \n",
       "2  01/11/2011 01:00    None            0          1          44    1     11   \n",
       "3  01/11/2011 01:30    None            0          1          44    1     11   \n",
       "4  01/11/2011 02:00    None            0          1          44    1     11   \n",
       "\n",
       "   Year  PeriodOfDay  ForecastWindProduction  SystemLoadEA  SMPEA  \\\n",
       "0  2011            0                  315.31       3388.77  49.26   \n",
       "1  2011            1                  321.80       3196.66  49.26   \n",
       "2  2011            2                  328.57       3060.71  49.10   \n",
       "3  2011            3                  335.60       2945.56  48.04   \n",
       "4  2011            4                  342.90       2849.34  33.75   \n",
       "\n",
       "   ORKTemperature  ORKWindspeed  CO2Intensity  ActualWindProduction  \\\n",
       "0             6.0           9.3        600.71                 356.0   \n",
       "1             6.0          11.1        605.42                 317.0   \n",
       "2             5.0          11.1        589.97                 311.0   \n",
       "3             6.0           9.3        585.94                 313.0   \n",
       "4             6.0          11.1        571.52                 346.0   \n",
       "\n",
       "   SystemLoadEP2  SMPEP2  \n",
       "0        3159.60   54.32  \n",
       "1        2973.01   54.23  \n",
       "2        2834.00   54.23  \n",
       "3        2725.99   53.47  \n",
       "4        2655.64   39.87  "
      ]
     },
     "execution_count": 3,
     "metadata": {},
     "output_type": "execute_result"
    }
   ],
   "source": [
    "df = pd.read_csv(\"electricity_prices.csv\", na_values=['?'])\n",
    "df.head()"
   ]
  },
  {
   "cell_type": "code",
   "execution_count": 4,
   "metadata": {},
   "outputs": [
    {
     "name": "stdout",
     "output_type": "stream",
     "text": [
      "<class 'pandas.core.frame.DataFrame'>\n",
      "RangeIndex: 38014 entries, 0 to 38013\n",
      "Data columns (total 18 columns):\n",
      " #   Column                  Non-Null Count  Dtype  \n",
      "---  ------                  --------------  -----  \n",
      " 0   DateTime                38014 non-null  object \n",
      " 1   Holiday                 38014 non-null  object \n",
      " 2   HolidayFlag             38014 non-null  int64  \n",
      " 3   DayOfWeek               38014 non-null  int64  \n",
      " 4   WeekOfYear              38014 non-null  int64  \n",
      " 5   Day                     38014 non-null  int64  \n",
      " 6   Month                   38014 non-null  int64  \n",
      " 7   Year                    38014 non-null  int64  \n",
      " 8   PeriodOfDay             38014 non-null  int64  \n",
      " 9   ForecastWindProduction  38009 non-null  float64\n",
      " 10  SystemLoadEA            38012 non-null  float64\n",
      " 11  SMPEA                   38012 non-null  float64\n",
      " 12  ORKTemperature          37719 non-null  float64\n",
      " 13  ORKWindspeed            37715 non-null  float64\n",
      " 14  CO2Intensity            38007 non-null  float64\n",
      " 15  ActualWindProduction    38009 non-null  float64\n",
      " 16  SystemLoadEP2           38012 non-null  float64\n",
      " 17  SMPEP2                  38012 non-null  float64\n",
      "dtypes: float64(9), int64(7), object(2)\n",
      "memory usage: 5.2+ MB\n"
     ]
    }
   ],
   "source": [
    "df.info()"
   ]
  },
  {
   "cell_type": "code",
   "execution_count": 5,
   "metadata": {},
   "outputs": [
    {
     "data": {
      "text/plain": [
       "DateTime                    0\n",
       "Holiday                     0\n",
       "HolidayFlag                 0\n",
       "DayOfWeek                   0\n",
       "WeekOfYear                  0\n",
       "Day                         0\n",
       "Month                       0\n",
       "Year                        0\n",
       "PeriodOfDay                 0\n",
       "ForecastWindProduction      5\n",
       "SystemLoadEA                2\n",
       "SMPEA                       2\n",
       "ORKTemperature            295\n",
       "ORKWindspeed              299\n",
       "CO2Intensity                7\n",
       "ActualWindProduction        5\n",
       "SystemLoadEP2               2\n",
       "SMPEP2                      2\n",
       "dtype: int64"
      ]
     },
     "execution_count": 5,
     "metadata": {},
     "output_type": "execute_result"
    }
   ],
   "source": [
    "df.isnull().sum()"
   ]
  },
  {
   "cell_type": "code",
   "execution_count": 6,
   "metadata": {},
   "outputs": [
    {
     "data": {
      "text/plain": [
       "(38014, 18)"
      ]
     },
     "execution_count": 6,
     "metadata": {},
     "output_type": "execute_result"
    }
   ],
   "source": [
    "df.shape"
   ]
  },
  {
   "cell_type": "code",
   "execution_count": 7,
   "metadata": {},
   "outputs": [
    {
     "name": "stdout",
     "output_type": "stream",
     "text": [
      "<class 'pandas.core.frame.DataFrame'>\n",
      "Int64Index: 37682 entries, 0 to 38013\n",
      "Data columns (total 18 columns):\n",
      " #   Column                  Non-Null Count  Dtype  \n",
      "---  ------                  --------------  -----  \n",
      " 0   DateTime                37682 non-null  object \n",
      " 1   Holiday                 37682 non-null  object \n",
      " 2   HolidayFlag             37682 non-null  int64  \n",
      " 3   DayOfWeek               37682 non-null  int64  \n",
      " 4   WeekOfYear              37682 non-null  int64  \n",
      " 5   Day                     37682 non-null  int64  \n",
      " 6   Month                   37682 non-null  int64  \n",
      " 7   Year                    37682 non-null  int64  \n",
      " 8   PeriodOfDay             37682 non-null  int64  \n",
      " 9   ForecastWindProduction  37682 non-null  float64\n",
      " 10  SystemLoadEA            37682 non-null  float64\n",
      " 11  SMPEA                   37682 non-null  float64\n",
      " 12  ORKTemperature          37682 non-null  float64\n",
      " 13  ORKWindspeed            37682 non-null  float64\n",
      " 14  CO2Intensity            37682 non-null  float64\n",
      " 15  ActualWindProduction    37682 non-null  float64\n",
      " 16  SystemLoadEP2           37682 non-null  float64\n",
      " 17  SMPEP2                  37682 non-null  float64\n",
      "dtypes: float64(9), int64(7), object(2)\n",
      "memory usage: 5.5+ MB\n"
     ]
    }
   ],
   "source": [
    "df = df.dropna()\n",
    "df.info()"
   ]
  },
  {
   "cell_type": "code",
   "execution_count": 8,
   "metadata": {},
   "outputs": [],
   "source": [
    "df = df.drop(['DateTime'], axis = 1)"
   ]
  },
  {
   "cell_type": "code",
   "execution_count": 9,
   "metadata": {},
   "outputs": [
    {
     "data": {
      "text/plain": [
       "SMPEP2                    1.000000\n",
       "SMPEA                     0.618158\n",
       "SystemLoadEP2             0.517081\n",
       "SystemLoadEA              0.491096\n",
       "PeriodOfDay               0.323490\n",
       "ActualWindProduction      0.083434\n",
       "ForecastWindProduction    0.079639\n",
       "DayOfWeek                 0.069625\n",
       "Year                      0.045456\n",
       "ORKWindspeed              0.035436\n",
       "CO2Intensity              0.035055\n",
       "WeekOfYear                0.015814\n",
       "Month                     0.014918\n",
       "Day                       0.012801\n",
       "ORKTemperature            0.009087\n",
       "HolidayFlag               0.001838\n",
       "Name: SMPEP2, dtype: float64"
      ]
     },
     "execution_count": 9,
     "metadata": {},
     "output_type": "execute_result"
    }
   ],
   "source": [
    "df.corr().abs()['SMPEP2'].sort_values(ascending = False)"
   ]
  },
  {
   "cell_type": "code",
   "execution_count": 10,
   "metadata": {},
   "outputs": [],
   "source": [
    "x = df[['ActualWindProduction', 'SystemLoadEP2', 'SMPEA', 'SystemLoadEA', 'ForecastWindProduction', \n",
    "     'DayOfWeek', 'Year', 'ORKWindspeed', 'CO2Intensity', 'PeriodOfDay']]\n",
    "y = df['SMPEP2']"
   ]
  },
  {
   "cell_type": "code",
   "execution_count": 11,
   "metadata": {},
   "outputs": [],
   "source": [
    "X_train, X_test, y_train, y_test = train_test_split(x, y, test_size = 0.1, random_state = 42)\n",
    "sc = StandardScaler()\n",
    "X_train = sc.fit_transform(X_train)\n",
    "X_test = sc.transform(X_test)"
   ]
  },
  {
   "cell_type": "code",
   "execution_count": 12,
   "metadata": {},
   "outputs": [
    {
     "name": "stdout",
     "output_type": "stream",
     "text": [
      "Model: \"sequential\"\n",
      "_________________________________________________________________\n",
      " Layer (type)                Output Shape              Param #   \n",
      "=================================================================\n",
      " dense (Dense)               (None, 512)               5632      \n",
      "                                                                 \n",
      " dense_1 (Dense)             (None, 800)               410400    \n",
      "                                                                 \n",
      " dropout (Dropout)           (None, 800)               0         \n",
      "                                                                 \n",
      " dense_2 (Dense)             (None, 1024)              820224    \n",
      "                                                                 \n",
      " dropout_1 (Dropout)         (None, 1024)              0         \n",
      "                                                                 \n",
      " dense_3 (Dense)             (None, 1)                 1025      \n",
      "                                                                 \n",
      "=================================================================\n",
      "Total params: 1,237,281\n",
      "Trainable params: 1,237,281\n",
      "Non-trainable params: 0\n",
      "_________________________________________________________________\n"
     ]
    }
   ],
   "source": [
    "model = keras.Sequential([\n",
    "        keras.layers.Dense(512, activation=\"relu\", input_shape=[10]),\n",
    "        keras.layers.Dense(800, activation=\"relu\"),\n",
    "        keras.layers.Dropout(0.3),\n",
    "        keras.layers.Dense(1024, activation=\"relu\"),\n",
    "        keras.layers.Dropout(0.3),\n",
    "        keras.layers.Dense(1, activation = 'linear'),\n",
    "        ])\n",
    "model.summary()"
   ]
  },
  {
   "cell_type": "code",
   "execution_count": 14,
   "metadata": {},
   "outputs": [],
   "source": [
    "model.compile(loss='mse', optimizer='adam', metrics=['mse','mae'])"
   ]
  },
  {
   "cell_type": "code",
   "execution_count": 15,
   "metadata": {},
   "outputs": [
    {
     "name": "stdout",
     "output_type": "stream",
     "text": [
      "Epoch 1/500\n",
      "679/679 [==============================] - 10s 14ms/step - loss: 813.2113 - mse: 813.2113 - mae: 16.6094 - val_loss: 680.1269 - val_mse: 680.1269 - val_mae: 13.8848\n",
      "Epoch 2/500\n",
      "679/679 [==============================] - 10s 15ms/step - loss: 707.1049 - mse: 707.1049 - mae: 14.8576 - val_loss: 639.3884 - val_mse: 639.3884 - val_mae: 13.0029\n",
      "Epoch 3/500\n",
      "679/679 [==============================] - 12s 17ms/step - loss: 701.2467 - mse: 701.2468 - mae: 14.7658 - val_loss: 609.5613 - val_mse: 609.5613 - val_mae: 13.3501\n",
      "Epoch 4/500\n",
      "679/679 [==============================] - 12s 17ms/step - loss: 687.3743 - mse: 687.3743 - mae: 14.5525 - val_loss: 611.0126 - val_mse: 611.0126 - val_mae: 13.1251\n",
      "Epoch 5/500\n",
      "679/679 [==============================] - 10s 15ms/step - loss: 682.3052 - mse: 682.3052 - mae: 14.4507 - val_loss: 617.7639 - val_mse: 617.7639 - val_mae: 13.1890\n",
      "Epoch 6/500\n",
      "679/679 [==============================] - 12s 17ms/step - loss: 679.1365 - mse: 679.1365 - mae: 14.4545 - val_loss: 598.7480 - val_mse: 598.7480 - val_mae: 12.9657\n",
      "Epoch 7/500\n",
      "679/679 [==============================] - 12s 17ms/step - loss: 678.4410 - mse: 678.4410 - mae: 14.3373 - val_loss: 635.3290 - val_mse: 635.3290 - val_mae: 13.0351\n",
      "Epoch 8/500\n",
      "679/679 [==============================] - 11s 16ms/step - loss: 678.4587 - mse: 678.4587 - mae: 14.3411 - val_loss: 603.4289 - val_mse: 603.4289 - val_mae: 12.9342\n",
      "Epoch 9/500\n",
      "679/679 [==============================] - 11s 16ms/step - loss: 671.3792 - mse: 671.3792 - mae: 14.1976 - val_loss: 586.5941 - val_mse: 586.5941 - val_mae: 13.3650\n",
      "Epoch 10/500\n",
      "679/679 [==============================] - 11s 16ms/step - loss: 676.5806 - mse: 676.5806 - mae: 14.3255 - val_loss: 609.3188 - val_mse: 609.3188 - val_mae: 12.5750\n",
      "Epoch 11/500\n",
      "679/679 [==============================] - 11s 16ms/step - loss: 663.3663 - mse: 663.3663 - mae: 14.1188 - val_loss: 595.9944 - val_mse: 595.9944 - val_mae: 12.6289\n",
      "Epoch 12/500\n",
      "679/679 [==============================] - 11s 16ms/step - loss: 659.4030 - mse: 659.4030 - mae: 14.1281 - val_loss: 620.5940 - val_mse: 620.5940 - val_mae: 12.8161\n",
      "Epoch 13/500\n",
      "679/679 [==============================] - 12s 17ms/step - loss: 660.5051 - mse: 660.5051 - mae: 14.0329 - val_loss: 588.9043 - val_mse: 588.9043 - val_mae: 13.4259\n",
      "Epoch 14/500\n",
      "679/679 [==============================] - 12s 18ms/step - loss: 652.8381 - mse: 652.8381 - mae: 13.9659 - val_loss: 582.7086 - val_mse: 582.7086 - val_mae: 12.9591\n",
      "Epoch 15/500\n",
      "679/679 [==============================] - 12s 18ms/step - loss: 651.4637 - mse: 651.4637 - mae: 13.9591 - val_loss: 598.4949 - val_mse: 598.4949 - val_mae: 12.9310\n",
      "Epoch 16/500\n",
      "679/679 [==============================] - 12s 17ms/step - loss: 646.7972 - mse: 646.7972 - mae: 13.9114 - val_loss: 587.8395 - val_mse: 587.8395 - val_mae: 12.7499\n",
      "Epoch 17/500\n",
      "679/679 [==============================] - 11s 17ms/step - loss: 638.6546 - mse: 638.6546 - mae: 13.7644 - val_loss: 583.3668 - val_mse: 583.3668 - val_mae: 12.8009\n",
      "Epoch 18/500\n",
      "679/679 [==============================] - 11s 16ms/step - loss: 641.8730 - mse: 641.8730 - mae: 13.7401 - val_loss: 581.7690 - val_mse: 581.7690 - val_mae: 13.1360\n",
      "Epoch 19/500\n",
      "679/679 [==============================] - 11s 16ms/step - loss: 636.7734 - mse: 636.7734 - mae: 13.7487 - val_loss: 592.3825 - val_mse: 592.3825 - val_mae: 12.5565\n",
      "Epoch 20/500\n",
      "679/679 [==============================] - 11s 16ms/step - loss: 633.2067 - mse: 633.2068 - mae: 13.6498 - val_loss: 590.5724 - val_mse: 590.5724 - val_mae: 12.9442\n",
      "Epoch 21/500\n",
      "679/679 [==============================] - 10s 15ms/step - loss: 624.5895 - mse: 624.5895 - mae: 13.5306 - val_loss: 631.0920 - val_mse: 631.0920 - val_mae: 13.0742\n",
      "Epoch 22/500\n",
      "679/679 [==============================] - 11s 16ms/step - loss: 622.3779 - mse: 622.3779 - mae: 13.5251 - val_loss: 570.7311 - val_mse: 570.7311 - val_mae: 12.6826\n",
      "Epoch 23/500\n",
      "679/679 [==============================] - 11s 16ms/step - loss: 619.8101 - mse: 619.8101 - mae: 13.4858 - val_loss: 572.5666 - val_mse: 572.5666 - val_mae: 12.5860\n",
      "Epoch 24/500\n",
      "679/679 [==============================] - 11s 16ms/step - loss: 615.5286 - mse: 615.5286 - mae: 13.3717 - val_loss: 592.3715 - val_mse: 592.3715 - val_mae: 12.3852\n",
      "Epoch 25/500\n",
      "679/679 [==============================] - 10s 15ms/step - loss: 611.4772 - mse: 611.4772 - mae: 13.3272 - val_loss: 560.9661 - val_mse: 560.9661 - val_mae: 12.1612\n",
      "Epoch 26/500\n",
      "679/679 [==============================] - 11s 16ms/step - loss: 603.8438 - mse: 603.8438 - mae: 13.2195 - val_loss: 592.5322 - val_mse: 592.5322 - val_mae: 13.3635\n",
      "Epoch 27/500\n",
      "679/679 [==============================] - 11s 16ms/step - loss: 599.6783 - mse: 599.6783 - mae: 13.2122 - val_loss: 566.9493 - val_mse: 566.9493 - val_mae: 13.1330\n",
      "Epoch 28/500\n",
      "679/679 [==============================] - 11s 16ms/step - loss: 594.2056 - mse: 594.2056 - mae: 13.0542 - val_loss: 567.1631 - val_mse: 567.1631 - val_mae: 12.3660\n",
      "Epoch 29/500\n",
      "679/679 [==============================] - 10s 15ms/step - loss: 583.1205 - mse: 583.1205 - mae: 12.9057 - val_loss: 565.1049 - val_mse: 565.1049 - val_mae: 12.0138\n",
      "Epoch 30/500\n",
      "679/679 [==============================] - 11s 16ms/step - loss: 582.0814 - mse: 582.0814 - mae: 12.8461 - val_loss: 567.0114 - val_mse: 567.0114 - val_mae: 11.9660\n",
      "Epoch 31/500\n",
      "679/679 [==============================] - 11s 16ms/step - loss: 576.9545 - mse: 576.9546 - mae: 12.8075 - val_loss: 542.5976 - val_mse: 542.5976 - val_mae: 12.1250\n",
      "Epoch 32/500\n",
      "679/679 [==============================] - 11s 16ms/step - loss: 569.1042 - mse: 569.1042 - mae: 12.7231 - val_loss: 548.4382 - val_mse: 548.4382 - val_mae: 12.2747\n",
      "Epoch 33/500\n",
      "679/679 [==============================] - 10s 15ms/step - loss: 564.9014 - mse: 564.9014 - mae: 12.5795 - val_loss: 558.0284 - val_mse: 558.0284 - val_mae: 12.2031\n",
      "Epoch 34/500\n",
      "679/679 [==============================] - 10s 15ms/step - loss: 556.9602 - mse: 556.9602 - mae: 12.4396 - val_loss: 550.9977 - val_mse: 550.9977 - val_mae: 12.0523\n",
      "Epoch 35/500\n",
      "679/679 [==============================] - 11s 16ms/step - loss: 555.3195 - mse: 555.3195 - mae: 12.4959 - val_loss: 552.6943 - val_mse: 552.6943 - val_mae: 12.3667\n",
      "Epoch 36/500\n",
      "679/679 [==============================] - 11s 16ms/step - loss: 550.3683 - mse: 550.3683 - mae: 12.3802 - val_loss: 590.6072 - val_mse: 590.6072 - val_mae: 12.1440\n",
      "Epoch 37/500\n",
      "679/679 [==============================] - 10s 15ms/step - loss: 539.3488 - mse: 539.3488 - mae: 12.2346 - val_loss: 542.9680 - val_mse: 542.9680 - val_mae: 11.8230\n",
      "Epoch 38/500\n",
      "679/679 [==============================] - 10s 15ms/step - loss: 538.1041 - mse: 538.1041 - mae: 12.1618 - val_loss: 540.0736 - val_mse: 540.0736 - val_mae: 11.6547\n",
      "Epoch 39/500\n",
      "679/679 [==============================] - 12s 17ms/step - loss: 531.6377 - mse: 531.6377 - mae: 12.1805 - val_loss: 515.2076 - val_mse: 515.2076 - val_mae: 11.3479oss: 521.2886 - mse: 521.2886 -  - ETA: 1s - loss: 526 - ETA: 0s - loss: 527.5793 - mse: 527.5793 - mae: 1\n",
      "Epoch 40/500\n",
      "679/679 [==============================] - 12s 18ms/step - loss: 533.9893 - mse: 533.9893 - mae: 12.0091 - val_loss: 549.5226 - val_mse: 549.5226 - val_mae: 11.4857\n",
      "Epoch 41/500\n",
      "679/679 [==============================] - 11s 16ms/step - loss: 526.2839 - mse: 526.2839 - mae: 11.9931 - val_loss: 526.6675 - val_mse: 526.6674 - val_mae: 11.4423\n",
      "Epoch 42/500\n",
      "679/679 [==============================] - 12s 17ms/step - loss: 521.3249 - mse: 521.3249 - mae: 11.8238 - val_loss: 548.9048 - val_mse: 548.9048 - val_mae: 11.5531\n",
      "Epoch 43/500\n",
      "679/679 [==============================] - 10s 15ms/step - loss: 509.7162 - mse: 509.7162 - mae: 11.7530 - val_loss: 566.6428 - val_mse: 566.6428 - val_mae: 11.4083\n",
      "Epoch 44/500\n",
      "679/679 [==============================] - 10s 15ms/step - loss: 513.4861 - mse: 513.4861 - mae: 11.7646 - val_loss: 556.0782 - val_mse: 556.0782 - val_mae: 12.2662\n",
      "Epoch 45/500\n",
      "679/679 [==============================] - 10s 14ms/step - loss: 511.7179 - mse: 511.7179 - mae: 11.6756 - val_loss: 522.7140 - val_mse: 522.7140 - val_mae: 11.2745\n",
      "Epoch 46/500\n"
     ]
    },
    {
     "name": "stdout",
     "output_type": "stream",
     "text": [
      "679/679 [==============================] - 10s 15ms/step - loss: 499.2906 - mse: 499.2906 - mae: 11.5402 - val_loss: 543.9046 - val_mse: 543.9046 - val_mae: 11.2886\n",
      "Epoch 47/500\n",
      "679/679 [==============================] - 10s 15ms/step - loss: 493.3296 - mse: 493.3296 - mae: 11.5170 - val_loss: 537.1215 - val_mse: 537.1215 - val_mae: 11.5677\n",
      "Epoch 48/500\n",
      "679/679 [==============================] - 10s 14ms/step - loss: 482.4256 - mse: 482.4256 - mae: 11.3881 - val_loss: 545.8820 - val_mse: 545.8820 - val_mae: 11.2682\n",
      "Epoch 49/500\n",
      "679/679 [==============================] - 10s 15ms/step - loss: 490.2566 - mse: 490.2566 - mae: 11.4879 - val_loss: 543.0308 - val_mse: 543.0308 - val_mae: 11.2377\n",
      "Wall time: 8min 51s\n"
     ]
    }
   ],
   "source": [
    "%%time\n",
    "early_stopping = keras.callbacks.EarlyStopping(patience = 10, min_delta = 0.001, \n",
    "                                               restore_best_weights =True )\n",
    "history = model.fit(\n",
    "    X_train, y_train,\n",
    "    validation_data=(X_test, y_test),\n",
    "    batch_size=50,\n",
    "    epochs=500,\n",
    "    callbacks=[early_stopping],\n",
    "    verbose=1, \n",
    ")"
   ]
  },
  {
   "cell_type": "code",
   "execution_count": 16,
   "metadata": {},
   "outputs": [
    {
     "name": "stdout",
     "output_type": "stream",
     "text": [
      "MAE: 11.347880076840816\n",
      "R2_score: 0.5643502519173749\n",
      "Wall time: 555 ms\n"
     ]
    }
   ],
   "source": [
    "%%time\n",
    "predictions = model.predict(X_test)\n",
    "print(f\"MAE: {mean_absolute_error(y_test, predictions)}\")\n",
    "print(f\"R2_score: {r2_score(y_test, predictions)}\")"
   ]
  },
  {
   "cell_type": "code",
   "execution_count": 17,
   "metadata": {},
   "outputs": [
    {
     "name": "stdout",
     "output_type": "stream",
     "text": [
      "Wall time: 2min 20s\n"
     ]
    },
    {
     "data": {
      "text/plain": [
       "0.6187556535493742"
      ]
     },
     "execution_count": 17,
     "metadata": {},
     "output_type": "execute_result"
    }
   ],
   "source": [
    "%%time\n",
    "from xgboost import XGBRegressor\n",
    "model2 = XGBRegressor(n_estimators = 8000, max_depth=17, eta=0.1, subsample=0.7, colsample_bytree=0.8)\n",
    "model2.fit(X_train, y_train)\n",
    "pred = model2.predict(X_test)\n",
    "r2_score(y_test, pred)"
   ]
  },
  {
   "cell_type": "code",
   "execution_count": 18,
   "metadata": {},
   "outputs": [
    {
     "name": "stdout",
     "output_type": "stream",
     "text": [
      "Wall time: 2min 7s\n"
     ]
    },
    {
     "data": {
      "text/plain": [
       "0.6187556536406225"
      ]
     },
     "execution_count": 18,
     "metadata": {},
     "output_type": "execute_result"
    }
   ],
   "source": [
    "%%time\n",
    "model3 = XGBRegressor(n_estimators = 10000, max_depth=17, eta=0.1, subsample=0.7, colsample_bytree=0.8, nthread=4)\n",
    "model3.fit(X_train, y_train)\n",
    "pred = model3.predict(X_test)\n",
    "r2_score(y_test, pred)"
   ]
  },
  {
   "cell_type": "code",
   "execution_count": 19,
   "metadata": {},
   "outputs": [
    {
     "name": "stdout",
     "output_type": "stream",
     "text": [
      "Accuracy: 0.9627172615098846\n",
      "Wall time: 17.7 s\n"
     ]
    }
   ],
   "source": [
    "%%time\n",
    "from sklearn.model_selection import train_test_split\n",
    "from sklearn.neural_network import MLPClassifier\n",
    "from sklearn.metrics import confusion_matrix\n",
    "\n",
    "\n",
    "# Split the dataset into features (X) and labels (y)\n",
    "X = df.iloc[:, 1:]\n",
    "y = df.iloc[:, 0]\n",
    "\n",
    "# Split the dataset into training and testing sets\n",
    "X_train, X_test, y_train, y_test = train_test_split(X, y, test_size=0.2, random_state=42)\n",
    "mlp = MLPClassifier(hidden_layer_sizes=(100, 100), random_state=42, activation='relu')\n",
    "mlp.fit(X_train, y_train)\n",
    "y_pred = mlp.predict(X_test)\n",
    "\n",
    "# Create confusion matrix\n",
    "cm = confusion_matrix(y_test, y_pred)\n",
    "\n",
    "# Calculate accuracy\n",
    "accuracy = accuracy_score(y_test, y_pred)\n",
    "print(\"Accuracy:\", accuracy)"
   ]
  },
  {
   "cell_type": "code",
   "execution_count": 17,
   "metadata": {},
   "outputs": [
    {
     "data": {
      "text/plain": [
       "array([37.34347 , 58.048763, 70.49032 , 62.104763, 47.734825],\n",
       "      dtype=float32)"
      ]
     },
     "execution_count": 17,
     "metadata": {},
     "output_type": "execute_result"
    }
   ],
   "source": [
    "pred[:5]  #xgboost"
   ]
  },
  {
   "cell_type": "code",
   "execution_count": 18,
   "metadata": {},
   "outputs": [
    {
     "data": {
      "text/plain": [
       "array([[ 0.01068195],\n",
       "       [-0.00647821],\n",
       "       [ 0.05537845],\n",
       "       [ 0.02341356],\n",
       "       [ 0.00585762]], dtype=float32)"
      ]
     },
     "execution_count": 18,
     "metadata": {},
     "output_type": "execute_result"
    }
   ],
   "source": [
    "predictions[:5]  #keras"
   ]
  }
 ],
 "metadata": {
  "kernelspec": {
   "display_name": "Python 3",
   "language": "python",
   "name": "python3"
  },
  "language_info": {
   "codemirror_mode": {
    "name": "ipython",
    "version": 3
   },
   "file_extension": ".py",
   "mimetype": "text/x-python",
   "name": "python",
   "nbconvert_exporter": "python",
   "pygments_lexer": "ipython3",
   "version": "3.8.5"
  }
 },
 "nbformat": 4,
 "nbformat_minor": 4
}
